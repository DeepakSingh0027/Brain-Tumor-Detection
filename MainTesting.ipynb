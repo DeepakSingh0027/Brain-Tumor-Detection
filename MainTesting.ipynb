{
 "cells": [
  {
   "cell_type": "code",
   "execution_count": 7,
   "id": "752e4c2f-ea10-4ebd-a628-d414c026835a",
   "metadata": {},
   "outputs": [],
   "source": [
    "import cv2\n",
    "from keras.models import load_model\n",
    "from PIL import Image\n",
    "import numpy as np"
   ]
  },
  {
   "cell_type": "code",
   "execution_count": 12,
   "id": "36a1d810-d21c-4bd4-9cef-37804451fe40",
   "metadata": {},
   "outputs": [
    {
     "name": "stderr",
     "output_type": "stream",
     "text": [
      "WARNING:absl:Compiled the loaded model, but the compiled metrics have yet to be built. `model.compile_metrics` will be empty until you train or evaluate the model.\n"
     ]
    },
    {
     "name": "stdout",
     "output_type": "stream",
     "text": [
      "\u001b[1m1/1\u001b[0m \u001b[32m━━━━━━━━━━━━━━━━━━━━\u001b[0m\u001b[37m\u001b[0m \u001b[1m0s\u001b[0m 66ms/step\n",
      "[[0.]]\n",
      "No Tumor Detected\n"
     ]
    }
   ],
   "source": [
    "model=load_model('TumorModel.h5')\n",
    "\n",
    "image=cv2.imread('pred/pred27.jpg')\n",
    "\n",
    "img=Image.fromarray(image)\n",
    "\n",
    "img=img.resize((64,64))\n",
    "\n",
    "img=np.array(img)\n",
    "\n",
    "input_img=np.expand_dims(img,axis=0)\n",
    "\n",
    "result=model.predict(input_img)\n",
    "\n",
    "print(result)\n",
    "if result==0:\n",
    "    print(\"No Tumor Detected\")\n",
    "else:\n",
    "    print(\"Tumor Detected\")"
   ]
  },
  {
   "cell_type": "code",
   "execution_count": null,
   "id": "0f3f730b-7d84-4e06-95bd-1c36f124f548",
   "metadata": {},
   "outputs": [],
   "source": []
  }
 ],
 "metadata": {
  "kernelspec": {
   "display_name": "Python 3 (ipykernel)",
   "language": "python",
   "name": "python3"
  },
  "language_info": {
   "codemirror_mode": {
    "name": "ipython",
    "version": 3
   },
   "file_extension": ".py",
   "mimetype": "text/x-python",
   "name": "python",
   "nbconvert_exporter": "python",
   "pygments_lexer": "ipython3",
   "version": "3.12.0"
  }
 },
 "nbformat": 4,
 "nbformat_minor": 5
}
